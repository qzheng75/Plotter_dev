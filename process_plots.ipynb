{
 "cells": [
  {
   "cell_type": "code",
   "execution_count": 1,
   "id": "c914ebf3",
   "metadata": {},
   "outputs": [],
   "source": [
    "import os\n",
    "import json\n",
    "from collections import Counter\n",
    "from tqdm import tqdm\n",
    "# define directories\n",
    "IMAGE_DIR = './train/images'\n",
    "ANNOTATIONS_DIR = './train/annotations'\n",
    "# get the list of images\n",
    "image_filenames = os.listdir(IMAGE_DIR)"
   ]
  },
  {
   "cell_type": "code",
   "execution_count": 2,
   "id": "ceedb64d",
   "metadata": {},
   "outputs": [],
   "source": [
    "# Convert polygon to bbox\n",
    "def convert_to_bbox(polygon):\n",
    "    return [polygon['x0'], polygon['y0'], polygon['x1'], polygon['y1'],polygon['x2'],polygon['y2'],polygon['x3'],polygon['y3']]"
   ]
  },
  {
   "cell_type": "code",
   "execution_count": 3,
   "id": "240957fd",
   "metadata": {},
   "outputs": [],
   "source": [
    "import re\n",
    "\n",
    "#Check if a string is number\n",
    "def is_number(s: str):\n",
    "    s = re.sub('[,$% ]', '', s)\n",
    "    try:\n",
    "        float(s)\n",
    "        return True\n",
    "    except ValueError:\n",
    "        return False\n",
    "\n",
    "#Get number from string\n",
    "def get_number(s):\n",
    "    if type(s)==str:\n",
    "        return float(re.sub('[,$% ]', '', s))\n",
    "    else:\n",
    "        return float(s)\n",
    "#Given ticks, and data-series, find the co-ordinates of data points on the image\n",
    "def translate_dataseries_to_chart(dataseries, x_tickinfo, y_tickinfo,ctype):\n",
    "    x_labels_numerical = all(is_number(label) for label in x_tickinfo.keys())\n",
    "    y_labels_numerical = all(is_number(label) for label in y_tickinfo.keys())\n",
    "\n",
    "    if x_labels_numerical:\n",
    "        # Convert y_tickinfo keys to float for comparison\n",
    "        x_ticks = {get_number(k): v for k, v in x_tickinfo.items()}\n",
    "\n",
    "        # Sort the y_ticks dictionary by key\n",
    "        x_ticks = dict(sorted(x_ticks.items()))\n",
    "\n",
    "        # List of y_ticks keys and values for interpolation\n",
    "        x_values = list(x_ticks.keys())\n",
    "        x_coords = list(x_ticks.values())\n",
    "    else:\n",
    "        # Create a mapping from x labels to their coordinates\n",
    "        x_mapping = {label: info['x'] for label, info in x_tickinfo.items()}\n",
    "\n",
    "    if y_labels_numerical:\n",
    "        # Convert y_tickinfo keys to float for comparison\n",
    "        y_ticks = {get_number(k): v for k, v in y_tickinfo.items()}\n",
    "\n",
    "        # Sort the y_ticks dictionary by key\n",
    "        y_ticks = dict(sorted(y_ticks.items()))\n",
    "\n",
    "        # List of y_ticks keys and values for interpolation\n",
    "        y_values = list(y_ticks.keys())\n",
    "        y_coords = list(y_ticks.values())\n",
    "    else:\n",
    "        # Create a mapping from y labels to their coordinates\n",
    "        y_mapping = {label: info['y'] for label, info in y_tickinfo.items()}\n",
    "\n",
    "    result = []\n",
    "    for point in dataseries:\n",
    "        x_val = point['x']\n",
    "        y_val = point['y']\n",
    "\n",
    "        if x_labels_numerical:\n",
    "            x_val = get_number(x_val)\n",
    "            # Find the two y_ticks that y_val falls between\n",
    "            for i in range(len(x_values) - 1):\n",
    "                if x_values[i] <= x_val <= x_values[i + 1]:\n",
    "                    # Linear interpolation of x_val to y_coord\n",
    "                    ratio = (x_val - x_values[i]) / (x_values[i + 1] - x_values[i])\n",
    "                    x_coord = x_coords[i]['x'] + ratio * (x_coords[i + 1]['x'] - x_coords[i]['x'])\n",
    "                    break\n",
    "            else:  # y_val >= maximum y_values[i]\n",
    "                ratio = (x_val - x_values[0]) / (x_values[-1] - x_values[0])\n",
    "                x_coord = x_coords[0]['x'] + ratio * (x_coords[-1]['x'] - x_coords[0]['x'])\n",
    "        else:\n",
    "            x_coord = x_mapping[x_val]\n",
    "\n",
    "        if y_labels_numerical:\n",
    "            y_val = get_number(y_val)\n",
    "\n",
    "            # Find the two y_ticks that y_val falls between\n",
    "            for i in range(len(y_values) - 1):\n",
    "                if y_values[i] <= y_val <= y_values[i + 1]:\n",
    "                    # Linear interpolation of y_val to y_coord\n",
    "                    ratio = (y_val - y_values[i]) / (y_values[i + 1] - y_values[i])\n",
    "                    y_coord = y_coords[i]['y'] + ratio * (y_coords[i + 1]['y'] - y_coords[i]['y'])\n",
    "                    break\n",
    "            else:  # y_val >= maximum y_values[i]\n",
    "                ratio = (y_val - y_values[0]) / (y_values[-1] - y_values[0])\n",
    "                y_coord = y_coords[0]['y'] + ratio * (y_coords[-1]['y'] - y_coords[0]['y'])\n",
    "\n",
    "        else:\n",
    "            # For non-numerical data, find the closest y tick\n",
    "#             closest_y_label = min(y_mapping.keys(), key=lambda label: abs(float(label) - y_val))\n",
    "            y_coord = y_mapping[y_val]\n",
    "\n",
    "        # Append (x_coord, y_coord) to result\n",
    "        result.append((x_coord, y_coord))\n",
    "\n",
    "    return result"
   ]
  },
  {
   "cell_type": "code",
   "execution_count": 4,
   "id": "e6c416f6",
   "metadata": {},
   "outputs": [],
   "source": [
    "def get_id(texts,i):\n",
    "    for k in texts:\n",
    "        if i==k[\"id\"]:\n",
    "            return k\n",
    "\n",
    "#Convert a point to square\n",
    "def create_square(point, k=10):\n",
    "    if type(point)==dict:\n",
    "        x,y = point[\"x\"],point[\"y\"]\n",
    "    else:\n",
    "        x,y =point\n",
    "    half_k = k / 2.0\n",
    "\n",
    "    # Define the corners of the square\n",
    "    corners = [x - half_k, y - half_k,x + half_k, y - half_k,x + half_k, y + half_k,x - half_k, y + half_k]\n",
    "    return corners\n",
    "\n",
    "def polygon_to_bbox(polygon):\n",
    "    # Create list of x and y coordinates\n",
    "    x_coords = polygon[0::2]\n",
    "    y_coords = polygon[1::2]\n",
    "\n",
    "    # Compute minimum and maximum coordinates\n",
    "    x_min, x_max = min(x_coords), max(x_coords)\n",
    "    y_min, y_max = min(y_coords), max(y_coords)\n",
    "\n",
    "    # Calculate the center of the bounding box\n",
    "    x_center = (x_min + x_max) / 2.0\n",
    "    y_center = (y_min + y_max) / 2.0\n",
    "\n",
    "    # Calculate the width and height of the bounding box\n",
    "    width = x_max - x_min\n",
    "    height = y_max - y_min\n",
    "\n",
    "    # Return the bounding box in the format [x, y, width, height]\n",
    "    return [x_center, y_center, width, height]\n",
    "\n",
    "\n",
    "def get_line_bboxes(v,ctype=None):\n",
    "    texts = v[\"text\"]\n",
    "    polygon_info = []\n",
    "    point_info = []\n",
    "    x_tickinfo = {}\n",
    "    y_tickinfo = {}\n",
    "\n",
    "    for tinf in v[\"axes\"][\"x-axis\"][\"ticks\"]:\n",
    "        bbox_label = convert_to_bbox(get_id(texts,tinf[\"id\"])[\"polygon\"])\n",
    "        polygon_info.append([0]+bbox_label)\n",
    "        x_tickinfo[get_id(texts,tinf[\"id\"])[\"text\"]] = tinf[\"tick_pt\"]\n",
    "\n",
    "    for tinf in v[\"axes\"][\"y-axis\"][\"ticks\"]:\n",
    "        bbox_label = convert_to_bbox(get_id(texts,tinf[\"id\"])[\"polygon\"])\n",
    "        polygon_info.append([1]+bbox_label)\n",
    "        y_tickinfo[get_id(texts,tinf[\"id\"])[\"text\"]] = tinf[\"tick_pt\"]\n",
    "    if ctype==\"horizontal_bar\":\n",
    "        x_tickinfo, y_tickinfo = y_tickinfo, x_tickinfo\n",
    "    for (x,y) in translate_dataseries_to_chart(v['data-series'],x_tickinfo, y_tickinfo,ctype):\n",
    "        point_info.append([2]+create_square([x,y]))\n",
    "    \n",
    "    return [[p[0]]+polygon_to_bbox(p[1:]) for p in polygon_info+point_info]\n"
   ]
  },
  {
   "cell_type": "code",
   "execution_count": 5,
   "id": "021ab543",
   "metadata": {},
   "outputs": [],
   "source": [
    "import cv2\n",
    "import matplotlib.pyplot as plt\n",
    "import random\n",
    "\n",
    "# define 8 different colors for the 8 classes\n",
    "\n",
    "def draw_boxes(image_path, data_file_path):\n",
    "    # load image\n",
    "    colors = [(random.randint(0,255), random.randint(0,255), random.randint(0,255)) for _ in range(8)]\n",
    "    image = cv2.imread(image_path)\n",
    "    image_height, image_width = image.shape[:2]\n",
    "    plt.figure(figsize=(10,10))\n",
    "    with open(data_file_path, 'r') as file:\n",
    "        lines = file.readlines()\n",
    "        for line in lines:\n",
    "            data = line.strip().split()\n",
    "            object_class, x_center, y_center, width, height = map(float, data)\n",
    "            object_class = int(object_class)\n",
    "\n",
    "            # denormalize coordinates and dimensions\n",
    "            x_center *= image_width\n",
    "            y_center *= image_height\n",
    "            width *= image_width\n",
    "            height *= image_height\n",
    "\n",
    "            # calculate the top left and bottom right points\n",
    "            x1 = int(x_center-width/2)\n",
    "            y1 = int(y_center-height/2)\n",
    "            x2 = int(x_center + width/2)\n",
    "            y2 = int(y_center + height/2)\n",
    "\n",
    "            # draw the bounding box on the image\n",
    "            cv2.rectangle(image, (x1, y1), (x2, y2), colors[object_class], 2)\n",
    "\n",
    "    # convert the image from BGR color space to RGB\n",
    "    image = cv2.cvtColor(image, cv2.COLOR_BGR2RGB)\n",
    "    \n",
    "    # display the image\n",
    "    plt.imshow(image)\n",
    "    plt.show()"
   ]
  },
  {
   "cell_type": "code",
   "execution_count": 22,
   "id": "e2d37328",
   "metadata": {},
   "outputs": [],
   "source": [
    "os.makedirs(\"./dataset/train/images\",exist_ok=True)\n",
    "os.makedirs(\"./dataset/train/labels\",exist_ok=True)\n",
    "os.makedirs(\"./dataset/test/images\",exist_ok=True)\n",
    "os.makedirs(\"./dataset/test/labels\",exist_ok=True)"
   ]
  },
  {
   "cell_type": "code",
   "execution_count": 18,
   "id": "baf29ebe",
   "metadata": {},
   "outputs": [
    {
     "name": "stdout",
     "output_type": "stream",
     "text": [
      "Train images: 6057\n",
      "Test images: 54521\n"
     ]
    }
   ],
   "source": [
    "import random\n",
    "\n",
    "num_to_select = int(len(image_filenames) * 0.1)\n",
    "\n",
    "test_images = random.sample(image_filenames, num_to_select)\n",
    "train_images = [filename for filename in image_filenames if filename not in randomly_selected]\n",
    "\n",
    "# Print or use the two lists as needed\n",
    "print(\"Train images:\", len(test_images))\n",
    "print(\"Test images:\", len(train_images))"
   ]
  },
  {
   "cell_type": "code",
   "execution_count": 44,
   "id": "4b1e4982",
   "metadata": {
    "scrolled": true
   },
   "outputs": [
    {
     "ename": "KeyboardInterrupt",
     "evalue": "",
     "output_type": "error",
     "traceback": [
      "\u001b[1;31m---------------------------------------------------------------------------\u001b[0m",
      "\u001b[1;31mKeyboardInterrupt\u001b[0m                         Traceback (most recent call last)",
      "Cell \u001b[1;32mIn[44], line 9\u001b[0m\n\u001b[0;32m      7\u001b[0m \u001b[38;5;28;01mtry\u001b[39;00m:\n\u001b[0;32m      8\u001b[0m     k \u001b[38;5;241m=\u001b[39m img\u001b[38;5;241m.\u001b[39msplit(\u001b[38;5;124m\"\u001b[39m\u001b[38;5;124m.\u001b[39m\u001b[38;5;124m\"\u001b[39m)[\u001b[38;5;241m0\u001b[39m]\n\u001b[1;32m----> 9\u001b[0m     v \u001b[38;5;241m=\u001b[39m json\u001b[38;5;241m.\u001b[39mload(\u001b[38;5;28;43mopen\u001b[39;49m\u001b[43m(\u001b[49m\u001b[43mos\u001b[49m\u001b[38;5;241;43m.\u001b[39;49m\u001b[43mpath\u001b[49m\u001b[38;5;241;43m.\u001b[39;49m\u001b[43mjoin\u001b[49m\u001b[43m(\u001b[49m\u001b[43mANNOTATIONS_DIR\u001b[49m\u001b[43m,\u001b[49m\u001b[43mk\u001b[49m\u001b[38;5;241;43m+\u001b[39;49m\u001b[38;5;124;43m\"\u001b[39;49m\u001b[38;5;124;43m.json\u001b[39;49m\u001b[38;5;124;43m\"\u001b[39;49m\u001b[43m)\u001b[49m\u001b[43m)\u001b[49m)\n\u001b[0;32m     10\u001b[0m     imgpth\u001b[38;5;241m=\u001b[39mos\u001b[38;5;241m.\u001b[39mpath\u001b[38;5;241m.\u001b[39mjoin(IMAGE_DIR,img)\n\u001b[0;32m     11\u001b[0m     height,width\u001b[38;5;241m=\u001b[39mcv2\u001b[38;5;241m.\u001b[39mimread(imgpth)\u001b[38;5;241m.\u001b[39mshape[:\u001b[38;5;241m2\u001b[39m]\n",
      "File \u001b[1;32m~\\Data\\Python\\Python311\\Lib\\site-packages\\IPython\\core\\interactiveshell.py:282\u001b[0m, in \u001b[0;36m_modified_open\u001b[1;34m(file, *args, **kwargs)\u001b[0m\n\u001b[0;32m    275\u001b[0m \u001b[38;5;28;01mif\u001b[39;00m file \u001b[38;5;129;01min\u001b[39;00m {\u001b[38;5;241m0\u001b[39m, \u001b[38;5;241m1\u001b[39m, \u001b[38;5;241m2\u001b[39m}:\n\u001b[0;32m    276\u001b[0m     \u001b[38;5;28;01mraise\u001b[39;00m \u001b[38;5;167;01mValueError\u001b[39;00m(\n\u001b[0;32m    277\u001b[0m         \u001b[38;5;124mf\u001b[39m\u001b[38;5;124m\"\u001b[39m\u001b[38;5;124mIPython won\u001b[39m\u001b[38;5;124m'\u001b[39m\u001b[38;5;124mt let you open fd=\u001b[39m\u001b[38;5;132;01m{\u001b[39;00mfile\u001b[38;5;132;01m}\u001b[39;00m\u001b[38;5;124m by default \u001b[39m\u001b[38;5;124m\"\u001b[39m\n\u001b[0;32m    278\u001b[0m         \u001b[38;5;124m\"\u001b[39m\u001b[38;5;124mas it is likely to crash IPython. If you know what you are doing, \u001b[39m\u001b[38;5;124m\"\u001b[39m\n\u001b[0;32m    279\u001b[0m         \u001b[38;5;124m\"\u001b[39m\u001b[38;5;124myou can use builtins\u001b[39m\u001b[38;5;124m'\u001b[39m\u001b[38;5;124m open.\u001b[39m\u001b[38;5;124m\"\u001b[39m\n\u001b[0;32m    280\u001b[0m     )\n\u001b[1;32m--> 282\u001b[0m \u001b[38;5;28;01mreturn\u001b[39;00m \u001b[43mio_open\u001b[49m\u001b[43m(\u001b[49m\u001b[43mfile\u001b[49m\u001b[43m,\u001b[49m\u001b[43m \u001b[49m\u001b[38;5;241;43m*\u001b[39;49m\u001b[43margs\u001b[49m\u001b[43m,\u001b[49m\u001b[43m \u001b[49m\u001b[38;5;241;43m*\u001b[39;49m\u001b[38;5;241;43m*\u001b[39;49m\u001b[43mkwargs\u001b[49m\u001b[43m)\u001b[49m\n",
      "File \u001b[1;32m<frozen codecs>:260\u001b[0m, in \u001b[0;36m__init__\u001b[1;34m(self, errors)\u001b[0m\n",
      "\u001b[1;31mKeyboardInterrupt\u001b[0m: "
     ]
    }
   ],
   "source": [
    "import shutil\n",
    "import numpy as np\n",
    "\n",
    "CINDEX={'line': 0, 'dot': 1, 'vertical_bar': 2, 'scatter': 3, 'horizontal_bar': 4}\n",
    "failed=0\n",
    "for img in train_images:\n",
    "    try:\n",
    "        k = img.split(\".\")[0]\n",
    "        v = json.load(open(os.path.join(ANNOTATIONS_DIR,k+\".json\")))\n",
    "        imgpth=os.path.join(IMAGE_DIR,img)\n",
    "        height,width=cv2.imread(imgpth).shape[:2]\n",
    "        polygon = get_line_bboxes(v, v['chart-type'])\n",
    "        h,w,x,y = list(v[\"plot-bb\"].values())\n",
    "        x = x+w/2\n",
    "        y = y+h/2\n",
    "        polygon.append([3+CINDEX[v['chart-type']],x,y,w,h])\n",
    "        for i in range(len(polygon)):\n",
    "            polygon[i][0] = str(polygon[i][0])\n",
    "            x,y,w,h = polygon[i][1:]\n",
    "            polygon[i][1] = str(x/width)\n",
    "            polygon[i][3] = str(w/width)\n",
    "            polygon[i][2] = str(y/height)\n",
    "            polygon[i][4] = str(h/height)\n",
    "\n",
    "        with open(f\"./dataset/train/labels/{k}.txt\", \"w\") as f:    \n",
    "            f.write(\"\\n\".join([\" \".join(p) for p in polygon]))\n",
    "        shutil.copy(imgpth,\"./dataset/train/images\")\n",
    "    except Exception as e:\n",
    "        print(e)\n",
    "        failed+=1\n",
    "        \n"
   ]
  },
  {
   "cell_type": "code",
   "execution_count": 24,
   "id": "934459b8",
   "metadata": {},
   "outputs": [
    {
     "name": "stdout",
     "output_type": "stream",
     "text": [
      "15246.658566221156\n",
      "list index out of range\n",
      "float division by zero\n",
      "12.803132165937043\n",
      "32.38474672737622\n",
      "'0'\n",
      "636.1820558386817\n",
      "71254.97489306304\n",
      "failed:  48\n"
     ]
    }
   ],
   "source": [
    "for img in test_images:\n",
    "    try:\n",
    "        k = img.split(\".\")[0]\n",
    "        v = json.load(open(os.path.join(ANNOTATIONS_DIR,k+\".json\")))\n",
    "        imgpth=os.path.join(IMAGE_DIR,img)\n",
    "        height,width=cv2.imread(imgpth).shape[:2]\n",
    "        polygon = get_line_bboxes(v, v['chart-type'])\n",
    "        h,w,x,y = list(v[\"plot-bb\"].values())\n",
    "        x = x+w/2\n",
    "        y = y+h/2\n",
    "        polygon.append([3+CINDEX[v['chart-type']],x,y,w,h])\n",
    "        for i in range(len(polygon)):\n",
    "            polygon[i][0] = str(polygon[i][0])\n",
    "            x,y,w,h = polygon[i][1:]\n",
    "            polygon[i][1] = str(x/width)\n",
    "            polygon[i][3] = str(w/width)\n",
    "            polygon[i][2] = str(y/height)\n",
    "            polygon[i][4] = str(h/height)\n",
    "\n",
    "        with open(f\"./dataset/test/labels/{k}.txt\", \"w\") as f:    \n",
    "            f.write(\"\\n\".join([\" \".join(p) for p in polygon]))\n",
    "        shutil.copy(imgpth,\"./dataset/test/images\")\n",
    "    except Exception as e:\n",
    "        print(e)\n",
    "        failed+=1\n",
    "print(\"failed: \",failed)"
   ]
  },
  {
   "cell_type": "code",
   "execution_count": 25,
   "id": "56635960",
   "metadata": {},
   "outputs": [
    {
     "data": {
      "text/plain": [
       "'C:\\\\Users\\\\zheng\\\\Data\\\\Data Science learning\\\\HackGT 2023\\\\HackGT Chart'"
      ]
     },
     "execution_count": 25,
     "metadata": {},
     "output_type": "execute_result"
    }
   ],
   "source": [
    "pwd"
   ]
  },
  {
   "cell_type": "code",
   "execution_count": 39,
   "id": "f0f8bc42",
   "metadata": {},
   "outputs": [
    {
     "name": "stdout",
     "output_type": "stream",
     "text": [
      "['train/images/0000ae6cbdb1.jpg', 'train/images/0003a50817cf.jpg', 'train/images/0005413054c9.jpg', 'train/images/0005e64fdc6e.jpg', 'train/images/000614d3eab6.jpg']\n"
     ]
    }
   ],
   "source": [
    "folder_path = './dataset/train/images'\n",
    "files_and_directories = os.listdir(folder_path)\n",
    "file_names = ['train/images/' + f for f in files_and_directories if os.path.isfile(os.path.join(folder_path, f))]\n",
    "print(file_names[:5])"
   ]
  },
  {
   "cell_type": "code",
   "execution_count": 40,
   "id": "02b1578d",
   "metadata": {},
   "outputs": [
    {
     "name": "stdout",
     "output_type": "stream",
     "text": [
      "['train/images/0000ae6cbdb1.jpg', 'train/images/0003a50817cf.jpg', 'train/images/0005413054c9.jpg', 'train/images/0005e64fdc6e.jpg', 'train/images/000614d3eab6.jpg']\n"
     ]
    }
   ],
   "source": [
    "folder_path = './dataset/test/images'\n",
    "files_and_directories = os.listdir(folder_path)\n",
    "test_file_names = ['test/images/' + f for f in files_and_directories if os.path.isfile(os.path.join(folder_path, f))]\n",
    "print(file_names[:5])"
   ]
  },
  {
   "cell_type": "code",
   "execution_count": 43,
   "id": "2d468f0f",
   "metadata": {},
   "outputs": [],
   "source": [
    "with open('./dataset/train.txt', 'w') as f:\n",
    "    for name in file_names:\n",
    "        f.write(name + '\\n')"
   ]
  },
  {
   "cell_type": "code",
   "execution_count": null,
   "id": "2acb90f9",
   "metadata": {},
   "outputs": [],
   "source": []
  }
 ],
 "metadata": {
  "kernelspec": {
   "display_name": "Python 3 (ipykernel)",
   "language": "python",
   "name": "python3"
  },
  "language_info": {
   "codemirror_mode": {
    "name": "ipython",
    "version": 3
   },
   "file_extension": ".py",
   "mimetype": "text/x-python",
   "name": "python",
   "nbconvert_exporter": "python",
   "pygments_lexer": "ipython3",
   "version": "3.11.1"
  }
 },
 "nbformat": 4,
 "nbformat_minor": 5
}
